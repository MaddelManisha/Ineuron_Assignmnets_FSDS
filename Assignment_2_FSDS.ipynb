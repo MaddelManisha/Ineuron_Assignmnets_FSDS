{
 "cells": [
  {
   "cell_type": "raw",
   "id": "50d70feb",
   "metadata": {},
   "source": [
    "Assignment - 2"
   ]
  },
  {
   "cell_type": "code",
   "execution_count": null,
   "id": "2d6bce35",
   "metadata": {},
   "outputs": [],
   "source": [
    "\n",
    "\n",
    "8. Write code that prints Hello if 1 is stored in spam, prints Howdy if 2 is stored in spam, and prints\n",
    "Greetings! if anything else is stored in spam.\n",
    "\n",
    "9.If your programme is stuck in an endless loop, what keys you’ll press?\n",
    "10. How can you tell the difference between break and continue?\n",
    "11. In a for loop, what is the difference between range(10), range(0, 10), and range(0, 10, 1)?\n",
    "12. Write a short program that prints the numbers 1 to 10 using a for loop. Then write an equivalent\n",
    "program that prints the numbers 1 to 10 using a while loop.\n",
    "13. If you had a function named bacon() inside a module named spam, how would you call it after\n",
    "importing spam?"
   ]
  },
  {
   "cell_type": "raw",
   "id": "e4ff2941",
   "metadata": {},
   "source": [
    "1.What are the two values of the Boolean data type? How do you write them?\n",
    "The two boolean values are True and False"
   ]
  },
  {
   "cell_type": "raw",
   "id": "7b468da6",
   "metadata": {},
   "source": [
    "2. What are the three different types of Boolean operators?\n",
    "The three Boolean operators are and , or and not"
   ]
  },
  {
   "cell_type": "raw",
   "id": "8af1d4f0",
   "metadata": {},
   "source": [
    "Make a list of each Boolean operator\n",
    "&#39;s \n",
    "truth tables (i.e. every possible combination of Boolean\n",
    "values for the operator and what it evaluate ).\n",
    "\n",
    "A\t    not A\t\t   Yes\t  No\n",
    "True\tFalse\t\t   True\t  False\n",
    "False\tTrue\t\t   True\t  False\n",
    "\n",
    "\n",
    "A\t     B\t    A and B\n",
    "True\tTrue\tTrue\n",
    "False\tTrue\tFalse\n",
    "True\tFalse\tFalse\n",
    "False\tFalse\tFalse\n",
    "\n",
    "\n",
    "A\t     B\t   A or B\n",
    "True\tTrue\tTrue\n",
    "False\tTrue\tTrue\n",
    "True\tFalse\tTrue\n",
    "False\tFalse\tFalse\n",
    "\n",
    "\n"
   ]
  },
  {
   "cell_type": "code",
   "execution_count": 2,
   "id": "41371420",
   "metadata": {},
   "outputs": [
    {
     "data": {
      "text/plain": [
       "False"
      ]
     },
     "execution_count": 2,
     "metadata": {},
     "output_type": "execute_result"
    }
   ],
   "source": [
    "#What are the values of the following expressions?\n",
    "(5 > 4) and (3 == 5)\n"
   ]
  },
  {
   "cell_type": "code",
   "execution_count": 3,
   "id": "a533e88c",
   "metadata": {},
   "outputs": [
    {
     "data": {
      "text/plain": [
       "False"
      ]
     },
     "execution_count": 3,
     "metadata": {},
     "output_type": "execute_result"
    }
   ],
   "source": [
    "not (5 > 4)\n"
   ]
  },
  {
   "cell_type": "code",
   "execution_count": 4,
   "id": "3caae5e6",
   "metadata": {},
   "outputs": [
    {
     "data": {
      "text/plain": [
       "False"
      ]
     },
     "execution_count": 4,
     "metadata": {},
     "output_type": "execute_result"
    }
   ],
   "source": [
    "\n",
    "not ((5 > 4) or (3 == 5))\n"
   ]
  },
  {
   "cell_type": "code",
   "execution_count": 5,
   "id": "5523820a",
   "metadata": {},
   "outputs": [
    {
     "data": {
      "text/plain": [
       "False"
      ]
     },
     "execution_count": 5,
     "metadata": {},
     "output_type": "execute_result"
    }
   ],
   "source": [
    "\n",
    "(True and True) and (True == False)\n"
   ]
  },
  {
   "cell_type": "code",
   "execution_count": 6,
   "id": "0f6f2973",
   "metadata": {},
   "outputs": [
    {
     "data": {
      "text/plain": [
       "True"
      ]
     },
     "execution_count": 6,
     "metadata": {},
     "output_type": "execute_result"
    }
   ],
   "source": [
    "\n",
    "(not False) or (not True)"
   ]
  },
  {
   "cell_type": "code",
   "execution_count": null,
   "id": "efaeeee0",
   "metadata": {},
   "outputs": [],
   "source": [
    "5. What are the six comparison operators?\n",
    "<=,>=,<,>,==,!="
   ]
  },
  {
   "cell_type": "code",
   "execution_count": null,
   "id": "aaba6f33",
   "metadata": {},
   "outputs": [],
   "source": [
    "6. How do you tell the difference between the equal to and assignment operators?\n",
    "Describe a condition and when you would use one.\n",
    "\n",
    "equal to  - == e.g  for checking 2 values if (str2==str3)\n",
    "assignment is used for assigning values e.g a=2\n"
   ]
  },
  {
   "cell_type": "code",
   "execution_count": null,
   "id": "15486db1",
   "metadata": {},
   "outputs": [],
   "source": [
    "7. Identify the three blocks in this code:\n",
    "spam = 0\n",
    "if spam == 10:\n",
    "    print('eggs') #first\n",
    "if spam > 5:\n",
    "    print('bacon') #second\n",
    "else:\n",
    "    print('ham';) #third\n",
    "    print('spam')\n",
    "    print('spam')\n",
    "\n",
    "      \n"
   ]
  },
  {
   "cell_type": "code",
   "execution_count": 12,
   "id": "f3bd6928",
   "metadata": {},
   "outputs": [
    {
     "name": "stdout",
     "output_type": "stream",
     "text": [
      "3\n",
      "Greetings\n"
     ]
    }
   ],
   "source": [
    "#8. Write code that prints Hello if 1 is stored in spam,\n",
    "#prints Howdy if 2 is stored in spam, and prints\n",
    "#Greetings! if anything else is stored in spam.\n",
    "\n",
    "\n",
    "\n",
    "str1=int(input())\n",
    "if str1==1:\n",
    "    print(\"Hello\")\n",
    "if str1==2:\n",
    "    print(\"spam\")\n",
    "if (str1!=1 and str1!=2):\n",
    "    print(\"Greetings\")"
   ]
  },
  {
   "cell_type": "code",
   "execution_count": null,
   "id": "acb14143",
   "metadata": {},
   "outputs": [],
   "source": [
    "9.If your programme is stuck in an endless loop, what keys you’ll press?\n",
    "\n",
    "on mac book - command+return\n",
    "on windows - ctrl+alt+ delete"
   ]
  },
  {
   "cell_type": "code",
   "execution_count": null,
   "id": "c21ee842",
   "metadata": {},
   "outputs": [],
   "source": [
    "10. How can you tell the difference between break and continue?\n",
    "\n",
    "The main difference between both the statements is that when break keyword comes, \n",
    "it terminates the execution of the current loop and passes the control over\n",
    "the next loop or main body, whereas when continue keyword is encountered, \n",
    "it skips the current iteration and executes the very next iteration in the loop.\n",
    "\n"
   ]
  },
  {
   "cell_type": "code",
   "execution_count": null,
   "id": "511afa53",
   "metadata": {},
   "outputs": [],
   "source": [
    "11. In a for loop, what is the difference between range(10), \n",
    "    range(0, 10), and range(0, 10, 1)?\n",
    "    \n",
    "All are same\n"
   ]
  },
  {
   "cell_type": "code",
   "execution_count": 14,
   "id": "3fcb7b18",
   "metadata": {},
   "outputs": [
    {
     "name": "stdout",
     "output_type": "stream",
     "text": [
      "1\n",
      "2\n",
      "3\n",
      "4\n",
      "5\n",
      "6\n",
      "7\n",
      "8\n",
      "9\n",
      "10\n"
     ]
    }
   ],
   "source": [
    "#Write a short program that prints the numbers 1 to 10 using a for loop. \n",
    "#Then write an equivalent\n",
    "#program that prints the numbers 1 to 10 using a while loop.\n",
    "\n",
    "\n",
    "for i in range(1,11):\n",
    "    print (i)"
   ]
  },
  {
   "cell_type": "code",
   "execution_count": 17,
   "id": "f8524ec7",
   "metadata": {},
   "outputs": [
    {
     "name": "stdout",
     "output_type": "stream",
     "text": [
      "1\n",
      "2\n",
      "3\n",
      "4\n",
      "5\n",
      "6\n",
      "7\n",
      "8\n",
      "9\n",
      "10\n"
     ]
    }
   ],
   "source": [
    "i=1\n",
    "while (i<=10):\n",
    "    print(i)\n",
    "    i=i+1"
   ]
  },
  {
   "cell_type": "code",
   "execution_count": null,
   "id": "9a5ef64a",
   "metadata": {},
   "outputs": [],
   "source": [
    "If you had a function named bacon()\n",
    "inside a module named spam, how would you call it after\n",
    "importing spam?\n",
    "\n",
    "\n",
    "def bacon():\n",
    "    "
   ]
  }
 ],
 "metadata": {
  "kernelspec": {
   "display_name": "Python 3 (ipykernel)",
   "language": "python",
   "name": "python3"
  },
  "language_info": {
   "codemirror_mode": {
    "name": "ipython",
    "version": 3
   },
   "file_extension": ".py",
   "mimetype": "text/x-python",
   "name": "python",
   "nbconvert_exporter": "python",
   "pygments_lexer": "ipython3",
   "version": "3.9.7"
  }
 },
 "nbformat": 4,
 "nbformat_minor": 5
}
