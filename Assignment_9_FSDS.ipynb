{
 "cells": [
  {
   "cell_type": "code",
   "execution_count": null,
   "id": "b09b0f0a",
   "metadata": {},
   "outputs": [],
   "source": [
    "1. To what does a relative path refer?\n",
    "2. What does an absolute path start with your operating system?\n",
    "3. What do the functions os.getcwd() and os.chdir() do?\n",
    "4. What are the . and .. folders?\n",
    "5. In C:\\bacon\\eggs\\spam.txt, which part is the dir name, and which part is the base name?\n",
    "6. What are the three “mode” arguments that can be passed to the open() function?\n",
    "7. What happens if an existing file is opened in write mode?\n",
    "8. How do you tell the difference between read() and readlines()?\n",
    "9. What data structure does a shelf value resemble?"
   ]
  },
  {
   "cell_type": "code",
   "execution_count": null,
   "id": "a4497e93",
   "metadata": {},
   "outputs": [],
   "source": [
    "1. To what does a relative path refer?\n",
    "\n",
    "A relative path refers to a location that is relative to a current directory."
   ]
  },
  {
   "cell_type": "code",
   "execution_count": null,
   "id": "71a1fc45",
   "metadata": {},
   "outputs": [],
   "source": [
    "2. What does an absolute path start with your operating system?\n",
    "\n",
    "absolute path is a complete path from start of actual file system from / directory.\n",
    "\n",
    "/Users/manishamaddel/Documents/Ineuron_python_assignment/Pyhton_basic_assignments_part_1/Assignment_1.docx"
   ]
  },
  {
   "cell_type": "code",
   "execution_count": null,
   "id": "bcddf9ed",
   "metadata": {},
   "outputs": [],
   "source": [
    "What do the functions os.getcwd() and os.chdir() do?"
   ]
  },
  {
   "cell_type": "code",
   "execution_count": 2,
   "id": "8c230154",
   "metadata": {},
   "outputs": [
    {
     "data": {
      "text/plain": [
       "'/Users/manishamaddel/Documents/Ineuron/Ineuron_Assignment'"
      ]
     },
     "execution_count": 2,
     "metadata": {},
     "output_type": "execute_result"
    }
   ],
   "source": [
    "\n",
    "import os\n",
    "os.getcwd()"
   ]
  },
  {
   "cell_type": "markdown",
   "id": "3307a027",
   "metadata": {},
   "source": [
    "os.chdir()\n",
    "\n",
    "os.chdir() method in Python used to \n",
    "change the current working directory to specified path. \n",
    "It takes only a single argument as new directory path"
   ]
  },
  {
   "cell_type": "code",
   "execution_count": null,
   "id": "8b5bf05b",
   "metadata": {},
   "outputs": [],
   "source": [
    "What are the . and .. folders?\n",
    "\n",
    "The . is the current directory, while .. signifies the parent directory."
   ]
  },
  {
   "cell_type": "code",
   "execution_count": null,
   "id": "fb00301b",
   "metadata": {},
   "outputs": [],
   "source": [
    "In C:\\bacon\\eggs\\spam.txt, which part is the dir name, and which part is the base name?\n",
    "  C:\\bacon\\eggs is dir name \n",
    "    spam.txt is base name"
   ]
  },
  {
   "cell_type": "code",
   "execution_count": null,
   "id": "ed66d584",
   "metadata": {},
   "outputs": [],
   "source": [
    "6. What are the three “mode” arguments that can be passed to the open() function?\n",
    "\n",
    "read/readlines, write, and append"
   ]
  },
  {
   "cell_type": "code",
   "execution_count": null,
   "id": "2b38fd28",
   "metadata": {},
   "outputs": [],
   "source": [
    "7. What happens if an existing file is opened in write mode?\n",
    "\n",
    "It overwrites the existing file and starts from scratch"
   ]
  },
  {
   "cell_type": "code",
   "execution_count": null,
   "id": "79fb5d6f",
   "metadata": {},
   "outputs": [],
   "source": [
    "8. How do you tell the difference between read() and readlines()?\n",
    "\n",
    "- The read() method passes the entire file as a string\n",
    "- The readlines() method provides a list of string values - one string for each line of text"
   ]
  }
 ],
 "metadata": {
  "kernelspec": {
   "display_name": "Python 3 (ipykernel)",
   "language": "python",
   "name": "python3"
  },
  "language_info": {
   "codemirror_mode": {
    "name": "ipython",
    "version": 3
   },
   "file_extension": ".py",
   "mimetype": "text/x-python",
   "name": "python",
   "nbconvert_exporter": "python",
   "pygments_lexer": "ipython3",
   "version": "3.9.7"
  }
 },
 "nbformat": 4,
 "nbformat_minor": 5
}
