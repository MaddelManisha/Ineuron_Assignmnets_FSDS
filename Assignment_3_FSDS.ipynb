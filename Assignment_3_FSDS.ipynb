{
 "cells": [
  {
   "cell_type": "markdown",
   "id": "6c8dedf3",
   "metadata": {},
   "source": [
    "1. Why are functions advantageous to have in your programs?\n",
    "2. When does the code in a function run: when it&#39;s specified or when it&#39;s called?\n",
    "3. What statement creates a function?\n",
    "4. What is the difference between a function and a function call?\n",
    "5. How many global scopes are there in a Python program? How many local scopes?\n",
    "6. What happens to variables in a local scope when the function call returns?\n",
    "7. What is the concept of a return value? Is it possible to have a return value in an expression?\n",
    "8. If a function does not have a return statement, what is the return value of a call to that function?\n",
    "9. How do you make a function variable refer to the global variable?\n",
    "10. What is the data type of None?\n",
    "11. What does the sentence import areallyourpetsnamederic do?\n",
    "12. If you had a bacon() feature in a spam module, what would you call it after importing spam?\n",
    "13. What can you do to save a programme from crashing if it encounters an error?\n",
    "14. What is the purpose of the try clause? What is the purpose of the except clause?"
   ]
  },
  {
   "cell_type": "markdown",
   "id": "4b20edee",
   "metadata": {},
   "source": [
    "Why are functions advantageous to have in your programs\n",
    "\n",
    "Functions help in modular programming and resuability of code"
   ]
  },
  {
   "cell_type": "code",
   "execution_count": null,
   "id": "52ecf3e4",
   "metadata": {},
   "outputs": [],
   "source": [
    "When does the code in a function run:\n",
    "    when it is specified or when it is called?\n",
    "when it is called."
   ]
  },
  {
   "cell_type": "code",
   "execution_count": null,
   "id": "4ac06494",
   "metadata": {},
   "outputs": [],
   "source": [
    "What statement creates a function?\n",
    "def fun1():"
   ]
  },
  {
   "cell_type": "code",
   "execution_count": null,
   "id": "c3d76b37",
   "metadata": {},
   "outputs": [],
   "source": [
    "What is the difference between a function and a function call?\n",
    "Function gives the body of function.\n",
    "Function call executes the function"
   ]
  },
  {
   "cell_type": "code",
   "execution_count": null,
   "id": "feba5b3f",
   "metadata": {},
   "outputs": [],
   "source": [
    "How many global scopes are there in a Python program? How many local scopes?\n",
    "only one global scope and local scope can be more than one"
   ]
  },
  {
   "cell_type": "code",
   "execution_count": null,
   "id": "4e486da7",
   "metadata": {},
   "outputs": [],
   "source": [
    "What happens to variables in a local scope when the function call returns?\n",
    "The local variables are destroyed"
   ]
  },
  {
   "cell_type": "code",
   "execution_count": null,
   "id": "4306766d",
   "metadata": {},
   "outputs": [],
   "source": [
    "What is the concept of a return value? \n",
    "Is it possible to have a return value in an expression?\n",
    "\n",
    "The values that a function returns when it has completed\n",
    "yes it is possible to return value in an expression"
   ]
  },
  {
   "cell_type": "code",
   "execution_count": null,
   "id": "33165658",
   "metadata": {},
   "outputs": [],
   "source": [
    "If a function does not have a return statement,\n",
    "what is the return value of a call to that function?\n",
    "value is None\n"
   ]
  },
  {
   "cell_type": "code",
   "execution_count": null,
   "id": "9c5bc3c0",
   "metadata": {},
   "outputs": [],
   "source": [
    "How do you make a function variable refer to the global variable?\n",
    "Preceding the variable name with keyword Global"
   ]
  },
  {
   "cell_type": "code",
   "execution_count": null,
   "id": "31eecbbe",
   "metadata": {},
   "outputs": [],
   "source": [
    "What is the data type of None?\n",
    "None is a data type of its own (NoneType) "
   ]
  },
  {
   "cell_type": "code",
   "execution_count": null,
   "id": "c60248c7",
   "metadata": {},
   "outputs": [],
   "source": [
    ". What does the sentence import areallyourpetsnamederic do?\n",
    "\n",
    "It imports the file areallyourpetsnamederic in our current file"
   ]
  },
  {
   "cell_type": "code",
   "execution_count": null,
   "id": "dc88b78c",
   "metadata": {},
   "outputs": [],
   "source": [
    "If you had a bacon() feature in a spam module,\n",
    "what would you call it after importing spam?\n",
    "\n",
    "spam.bacon()"
   ]
  },
  {
   "cell_type": "code",
   "execution_count": null,
   "id": "67fe4c77",
   "metadata": {},
   "outputs": [],
   "source": [
    "What can you do to save a programme from crashing if it encounters an error?\n",
    "We can make use of exception handling ,writing try and except block"
   ]
  },
  {
   "cell_type": "code",
   "execution_count": null,
   "id": "d494567b",
   "metadata": {},
   "outputs": [],
   "source": [
    "14. What is the purpose of the try clause? What is the purpose of the except clause?\n",
    "try block exe"
   ]
  }
 ],
 "metadata": {
  "kernelspec": {
   "display_name": "Python 3 (ipykernel)",
   "language": "python",
   "name": "python3"
  },
  "language_info": {
   "codemirror_mode": {
    "name": "ipython",
    "version": 3
   },
   "file_extension": ".py",
   "mimetype": "text/x-python",
   "name": "python",
   "nbconvert_exporter": "python",
   "pygments_lexer": "ipython3",
   "version": "3.9.7"
  }
 },
 "nbformat": 4,
 "nbformat_minor": 5
}
