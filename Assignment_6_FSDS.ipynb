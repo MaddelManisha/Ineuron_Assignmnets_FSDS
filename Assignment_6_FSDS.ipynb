{
 "cells": [
  {
   "cell_type": "markdown",
   "id": "05438287",
   "metadata": {},
   "source": [
    "Assignment - 6\n",
    "\n",
    "1. What are escape characters, and how do you use them?\n",
    "2. What do the escape characters n and t stand for?\n",
    "3. What is the way to include backslash characters in a string?\n",
    "4. The string \"Howl's Moving Castle\" is a correct value. Why isn't the single quote character in the word Howl's not escaped a problem?\n",
    "5. How do you write a string of newlines if you don't want to use the n character?\n",
    "6. What are the values of the given expressions?\n",
    "'Hello, world!'[1]\n",
    "'Hello, world!'[0:5]\n",
    "'Hello, world!'[:5]\n",
    "'Hello, world!'[3:]\n",
    "\n",
    "7. What are the values of the following expressions?\n",
    "'Hello'.upper()\n",
    "'Hello'.upper().isupper()\n",
    "'Hello'.upper().lower()\n",
    "8. What are the values of the following expressions?\n",
    "'Remember, remember, the fifth of July.'.split()\n",
    "'-'.join('There can only one.'.split())\n",
    "9. What are the methods for right-justifying, left-justifying, and centering a string?\n",
    "10. What is the best way to remove whitespace characters from the start or end?\n"
   ]
  },
  {
   "cell_type": "code",
   "execution_count": null,
   "id": "fb28a854",
   "metadata": {},
   "outputs": [],
   "source": [
    "\n",
    "1. What are escape characters, and how do you use them?\n",
    "\n",
    "\n",
    "To insert characters that are illegal in a string, use an escape character.\n",
    "An escape character is a backslash \\ followed by the character you want to insert.\n",
    "\n",
    "\n",
    "txt = \"i like \"mangos\" a lot\"\n",
    "\n",
    "we can write \n",
    "\n",
    "\n",
    "\n",
    "txt = \"i like \\\"mangos\\\" a lot\""
   ]
  },
  {
   "cell_type": "code",
   "execution_count": 3,
   "id": "0e611df8",
   "metadata": {},
   "outputs": [
    {
     "data": {
      "text/plain": [
       "'i like \"mangos\" a lot'"
      ]
     },
     "execution_count": 3,
     "metadata": {},
     "output_type": "execute_result"
    }
   ],
   "source": [
    "txt = \"i like \\\"mangos\\\" a lot\"\n",
    "txt"
   ]
  },
  {
   "cell_type": "code",
   "execution_count": null,
   "id": "30ccf9fb",
   "metadata": {},
   "outputs": [],
   "source": [
    "2.What do the escape characters n and t stand for?\n",
    "\n",
    "\n",
    "\\n - newline\n",
    "\\t - tab or white spaces"
   ]
  },
  {
   "cell_type": "code",
   "execution_count": 23,
   "id": "632b55eb",
   "metadata": {},
   "outputs": [
    {
     "name": "stdout",
     "output_type": "stream",
     "text": [
      "\\\n",
      "abc\\12\n"
     ]
    }
   ],
   "source": [
    "#3.What is the way to include backslash characters in a string?\n",
    "\n",
    "#we need to include two \\\\\n",
    "\n",
    "str1=\"\\\\\"\n",
    "print(str1)\n",
    "\n",
    "str2=\"abc\\\\12\"\n",
    "\n",
    "print(str2)"
   ]
  },
  {
   "cell_type": "code",
   "execution_count": 26,
   "id": "9cc9a532",
   "metadata": {},
   "outputs": [
    {
     "name": "stdout",
     "output_type": "stream",
     "text": [
      "Howl's Moving Castle\n"
     ]
    }
   ],
   "source": [
    "#4. The string \"Howl's Moving Castle\" is a correct value. \n",
    "#Why isn't the single quote character in the word Howl's not escaped a problem?\n",
    "\n",
    "\n",
    "str1=\"Howl's Moving Castle\"\n",
    "print(str1)\n",
    "\n",
    "\n",
    "\n",
    "The single quote in Howl's is fine because you've\n",
    "used double quotes to mark the beginning and end of the string. "
   ]
  },
  {
   "cell_type": "code",
   "execution_count": 29,
   "id": "065d39f6",
   "metadata": {},
   "outputs": [
    {
     "name": "stdout",
     "output_type": "stream",
     "text": [
      "manisha maddel\n"
     ]
    }
   ],
   "source": [
    "#How do you write a string of newlines if you don't want to use the n character?\n",
    "\n",
    "#we can make use of parameter 'end ' in print statement\n",
    "\n",
    "\n",
    "print(\"manisha\",end=\" \")\n",
    "print(\"maddel\")\n"
   ]
  },
  {
   "cell_type": "code",
   "execution_count": null,
   "id": "415ab4fc",
   "metadata": {},
   "outputs": [],
   "source": [
    "6. What are the values of the given expressions?\n",
    "'Hello, world!'[1]\n",
    "'Hello, world!'[0:5]\n",
    "'Hello, world!'[:5]\n",
    "'Hello, world!'[3:]"
   ]
  },
  {
   "cell_type": "code",
   "execution_count": 30,
   "id": "6d7358f0",
   "metadata": {},
   "outputs": [
    {
     "data": {
      "text/plain": [
       "'e'"
      ]
     },
     "execution_count": 30,
     "metadata": {},
     "output_type": "execute_result"
    }
   ],
   "source": [
    "'Hello, world!'[1]"
   ]
  },
  {
   "cell_type": "code",
   "execution_count": 31,
   "id": "5a7e4642",
   "metadata": {},
   "outputs": [
    {
     "data": {
      "text/plain": [
       "'Hello'"
      ]
     },
     "execution_count": 31,
     "metadata": {},
     "output_type": "execute_result"
    }
   ],
   "source": [
    "'Hello, world!'[0:5]"
   ]
  },
  {
   "cell_type": "code",
   "execution_count": 32,
   "id": "3a5216d8",
   "metadata": {},
   "outputs": [
    {
     "data": {
      "text/plain": [
       "'Hello'"
      ]
     },
     "execution_count": 32,
     "metadata": {},
     "output_type": "execute_result"
    }
   ],
   "source": [
    "'Hello, world!'[:5]"
   ]
  },
  {
   "cell_type": "code",
   "execution_count": 33,
   "id": "f5381741",
   "metadata": {},
   "outputs": [
    {
     "data": {
      "text/plain": [
       "'lo, world!'"
      ]
     },
     "execution_count": 33,
     "metadata": {},
     "output_type": "execute_result"
    }
   ],
   "source": [
    "'Hello, world!'[3:]"
   ]
  },
  {
   "cell_type": "code",
   "execution_count": null,
   "id": "23bb146d",
   "metadata": {},
   "outputs": [],
   "source": [
    "7. What are the values of the following expressions?\n",
    "'Hello'.upper()\n",
    "'Hello'.upper().isupper()\n",
    "'Hello'.upper().lower()"
   ]
  },
  {
   "cell_type": "code",
   "execution_count": 34,
   "id": "d133f3cb",
   "metadata": {},
   "outputs": [
    {
     "data": {
      "text/plain": [
       "'HELLO'"
      ]
     },
     "execution_count": 34,
     "metadata": {},
     "output_type": "execute_result"
    }
   ],
   "source": [
    "'Hello'.upper()"
   ]
  },
  {
   "cell_type": "code",
   "execution_count": 35,
   "id": "71df38b1",
   "metadata": {},
   "outputs": [
    {
     "data": {
      "text/plain": [
       "True"
      ]
     },
     "execution_count": 35,
     "metadata": {},
     "output_type": "execute_result"
    }
   ],
   "source": [
    "'Hello'.upper().isupper()"
   ]
  },
  {
   "cell_type": "code",
   "execution_count": 36,
   "id": "6fa1cf59",
   "metadata": {},
   "outputs": [
    {
     "data": {
      "text/plain": [
       "'hello'"
      ]
     },
     "execution_count": 36,
     "metadata": {},
     "output_type": "execute_result"
    }
   ],
   "source": [
    "'Hello'.upper().lower()"
   ]
  },
  {
   "cell_type": "code",
   "execution_count": null,
   "id": "68b225dd",
   "metadata": {},
   "outputs": [],
   "source": [
    "8. What are the values of the following expressions?\n",
    "'Remember, remember, the fifth of July.'.split()\n",
    "'-'.join('There can only one.'.split())"
   ]
  },
  {
   "cell_type": "code",
   "execution_count": 37,
   "id": "135d7b60",
   "metadata": {},
   "outputs": [
    {
     "data": {
      "text/plain": [
       "['Remember,', 'remember,', 'the', 'fifth', 'of', 'July.']"
      ]
     },
     "execution_count": 37,
     "metadata": {},
     "output_type": "execute_result"
    }
   ],
   "source": [
    "'Remember, remember, the fifth of July.'.split()"
   ]
  },
  {
   "cell_type": "code",
   "execution_count": 38,
   "id": "58cbbf87",
   "metadata": {},
   "outputs": [
    {
     "data": {
      "text/plain": [
       "'There-can-only-one.'"
      ]
     },
     "execution_count": 38,
     "metadata": {},
     "output_type": "execute_result"
    }
   ],
   "source": [
    "'-'.join('There can only one.'.split())"
   ]
  },
  {
   "cell_type": "code",
   "execution_count": null,
   "id": "fa254a03",
   "metadata": {},
   "outputs": [],
   "source": [
    "9. What are the methods for right-justifying, left-justifying, and centering a string?"
   ]
  },
  {
   "cell_type": "code",
   "execution_count": null,
   "id": "fd687277",
   "metadata": {},
   "outputs": [],
   "source": [
    "ljust(), rjust(), center()"
   ]
  },
  {
   "cell_type": "code",
   "execution_count": 39,
   "id": "b08b09c1",
   "metadata": {},
   "outputs": [],
   "source": [
    "str1=\"looking gorgeous\""
   ]
  },
  {
   "cell_type": "code",
   "execution_count": 41,
   "id": "6567b12f",
   "metadata": {},
   "outputs": [
    {
     "data": {
      "text/plain": [
       "'looking gorgeous------------------------'"
      ]
     },
     "execution_count": 41,
     "metadata": {},
     "output_type": "execute_result"
    }
   ],
   "source": [
    "str1.ljust(40,'-')"
   ]
  },
  {
   "cell_type": "code",
   "execution_count": 44,
   "id": "8bc4299d",
   "metadata": {},
   "outputs": [
    {
     "data": {
      "text/plain": [
       "'------------------------looking gorgeous'"
      ]
     },
     "execution_count": 44,
     "metadata": {},
     "output_type": "execute_result"
    }
   ],
   "source": [
    "str1.rjust(40,'-')"
   ]
  },
  {
   "cell_type": "code",
   "execution_count": 45,
   "id": "64ba42ca",
   "metadata": {},
   "outputs": [
    {
     "data": {
      "text/plain": [
       "'------------looking gorgeous------------'"
      ]
     },
     "execution_count": 45,
     "metadata": {},
     "output_type": "execute_result"
    }
   ],
   "source": [
    "str1.center(40,'-')"
   ]
  },
  {
   "cell_type": "code",
   "execution_count": null,
   "id": "08f8ef78",
   "metadata": {},
   "outputs": [],
   "source": [
    "10. What is the best way to remove whitespace characters from the start or end?"
   ]
  },
  {
   "cell_type": "code",
   "execution_count": null,
   "id": "9ffe6a6f",
   "metadata": {},
   "outputs": [],
   "source": [
    "Trim() removes all whitespace from the beginning and end of a string."
   ]
  },
  {
   "cell_type": "code",
   "execution_count": 46,
   "id": "70d94614",
   "metadata": {},
   "outputs": [],
   "source": [
    "str1=\"    manisha     \""
   ]
  },
  {
   "cell_type": "code",
   "execution_count": 47,
   "id": "843f652f",
   "metadata": {},
   "outputs": [
    {
     "data": {
      "text/plain": [
       "'    manisha     '"
      ]
     },
     "execution_count": 47,
     "metadata": {},
     "output_type": "execute_result"
    }
   ],
   "source": [
    "str1"
   ]
  },
  {
   "cell_type": "code",
   "execution_count": 49,
   "id": "9e07939c",
   "metadata": {},
   "outputs": [
    {
     "data": {
      "text/plain": [
       "'manisha'"
      ]
     },
     "execution_count": 49,
     "metadata": {},
     "output_type": "execute_result"
    }
   ],
   "source": [
    "str1.strip()"
   ]
  },
  {
   "cell_type": "code",
   "execution_count": null,
   "id": "f0ca2bba",
   "metadata": {},
   "outputs": [],
   "source": []
  }
 ],
 "metadata": {
  "kernelspec": {
   "display_name": "Python 3 (ipykernel)",
   "language": "python",
   "name": "python3"
  },
  "language_info": {
   "codemirror_mode": {
    "name": "ipython",
    "version": 3
   },
   "file_extension": ".py",
   "mimetype": "text/x-python",
   "name": "python",
   "nbconvert_exporter": "python",
   "pygments_lexer": "ipython3",
   "version": "3.9.7"
  }
 },
 "nbformat": 4,
 "nbformat_minor": 5
}
