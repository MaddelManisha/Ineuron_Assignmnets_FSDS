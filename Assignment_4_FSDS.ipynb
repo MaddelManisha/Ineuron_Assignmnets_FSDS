{
 "cells": [
  {
   "cell_type": "code",
   "execution_count": null,
   "id": "1e2b514a",
   "metadata": {},
   "outputs": [],
   "source": [
    "Assignment - 4"
   ]
  },
  {
   "cell_type": "code",
   "execution_count": null,
   "id": "a3fbe9c0",
   "metadata": {},
   "outputs": [],
   "source": [
    "1. What exactly is []?\n",
    "2. In a list of values stored in a variable called spam, \n",
    "how would you assign the value 'hello' as the third value? \n",
    "(Assume [2, 4, 6, 8, 10] are in spam.)\n",
    "Let's pretend the spam includes the list ['a', 'b', 'c', 'd'] \n",
    "for the next three queries.\n",
    "3. What is the value of spam[int(int('3' * 2) / 11)]?\n",
    "4. What is the value of spam[-1]?\n",
    "5. What is the value of spam[:2]?\n",
    "Let's pretend bacon has the list [3.14, 'cat,' 11, 'cat,' True] for the next three questions.\n",
    "6. What is the value of bacon.index('cat')?\n",
    "7. How does bacon.append(99) change the look of the list value in bacon?\n",
    "8. How does bacon.remove('cat') change the look of the list in bacon?\n",
    "9. What are the list concatenation and list replication operators?\n",
    "10. What is difference between the list methods append() and insert()?\n",
    "11. What are the two methods for removing items from a list?\n",
    "12. Describe how list values and string values are identical.\n",
    "13. What's the difference between tuples and lists?\n",
    "14. How do you type a tuple value that only contains the integer 42?\n",
    "15. How do you get a list value's tuple form? How do you get a tuple value's list form?\n",
    "16. Variables that \"contain\" list values are not necessarily lists themselves. \n",
    "Instead, what do they contain?\n",
    "17. How do you distinguish between copy.copy() and copy.deepcopy()?\n",
    "\n"
   ]
  },
  {
   "cell_type": "code",
   "execution_count": null,
   "id": "dc0f280c",
   "metadata": {},
   "outputs": [],
   "source": [
    "1. What exactly is []?\n",
    "[] is used to create a list\n",
    "it means an emty list"
   ]
  },
  {
   "cell_type": "code",
   "execution_count": 3,
   "id": "0ac27ae8",
   "metadata": {},
   "outputs": [
    {
     "data": {
      "text/plain": [
       "[2, 4, 'hello', 8, 10]"
      ]
     },
     "execution_count": 3,
     "metadata": {},
     "output_type": "execute_result"
    }
   ],
   "source": [
    "#2. In a list of values stored in a variable called spam, \n",
    "#how would you assign the value 'hello' as the third value? \n",
    "#(Assume [2, 4, 6, 8, 10] are in spam.)\n",
    "\n",
    "\n",
    "spam=[2, 4, 6, 8, 10] \n",
    "\n",
    "spam[2]=\"hello\"\n",
    "spam"
   ]
  },
  {
   "cell_type": "code",
   "execution_count": 4,
   "id": "d182cd9f",
   "metadata": {},
   "outputs": [
    {
     "data": {
      "text/plain": [
       "'d'"
      ]
     },
     "execution_count": 4,
     "metadata": {},
     "output_type": "execute_result"
    }
   ],
   "source": [
    "#Let's pretend the spam includes the list ['a', 'b', 'c', 'd'] \n",
    "#for the next three queries.\n",
    "#3. What is the value of spam[int(int('3' * 2) / 11)]?\n",
    "#4. What is the value of spam[-1]?\n",
    "#5. What is the value of spam[:2]?\n",
    "\n",
    "\n",
    "spam=['a', 'b', 'c', 'd'] \n",
    "\n",
    "spam[int(int('3' * 2) / 11)] #int(33/11) =spam[3]"
   ]
  },
  {
   "cell_type": "code",
   "execution_count": 5,
   "id": "7dfb1d5c",
   "metadata": {},
   "outputs": [
    {
     "data": {
      "text/plain": [
       "'33'"
      ]
     },
     "execution_count": 5,
     "metadata": {},
     "output_type": "execute_result"
    }
   ],
   "source": [
    "'3' * 2"
   ]
  },
  {
   "cell_type": "code",
   "execution_count": 6,
   "id": "9ed3320b",
   "metadata": {},
   "outputs": [
    {
     "data": {
      "text/plain": [
       "'d'"
      ]
     },
     "execution_count": 6,
     "metadata": {},
     "output_type": "execute_result"
    }
   ],
   "source": [
    "spam[-1]"
   ]
  },
  {
   "cell_type": "code",
   "execution_count": 7,
   "id": "254f03f3",
   "metadata": {},
   "outputs": [
    {
     "data": {
      "text/plain": [
       "['a', 'b']"
      ]
     },
     "execution_count": 7,
     "metadata": {},
     "output_type": "execute_result"
    }
   ],
   "source": [
    "spam[:2]"
   ]
  },
  {
   "cell_type": "code",
   "execution_count": null,
   "id": "e203707d",
   "metadata": {},
   "outputs": [],
   "source": [
    "Let's pretend bacon has the list [3.14, 'cat,' 11, 'cat,' True] for the next three questions.\n",
    "6. What is the value of bacon.index('cat')?\n",
    "7. How does bacon.append(99) change the look of the list value in bacon?\n",
    "8. How does bacon.remove('cat') change the look of the list in bacon?"
   ]
  },
  {
   "cell_type": "code",
   "execution_count": 10,
   "id": "59d79af1",
   "metadata": {},
   "outputs": [
    {
     "data": {
      "text/plain": [
       "1"
      ]
     },
     "execution_count": 10,
     "metadata": {},
     "output_type": "execute_result"
    }
   ],
   "source": [
    "bacon=[3.14, 'cat', 11, 'cat', True]\n",
    "\n",
    "bacon.index('cat')"
   ]
  },
  {
   "cell_type": "code",
   "execution_count": 11,
   "id": "16068dda",
   "metadata": {},
   "outputs": [],
   "source": [
    "bacon.append(99)"
   ]
  },
  {
   "cell_type": "code",
   "execution_count": 12,
   "id": "482f6b3a",
   "metadata": {},
   "outputs": [
    {
     "data": {
      "text/plain": [
       "[3.14, 'cat', 11, 'cat', True, 99]"
      ]
     },
     "execution_count": 12,
     "metadata": {},
     "output_type": "execute_result"
    }
   ],
   "source": [
    "bacon"
   ]
  },
  {
   "cell_type": "code",
   "execution_count": 13,
   "id": "1d94a398",
   "metadata": {},
   "outputs": [],
   "source": [
    "bacon.remove('cat')"
   ]
  },
  {
   "cell_type": "code",
   "execution_count": 14,
   "id": "f713ab44",
   "metadata": {},
   "outputs": [
    {
     "data": {
      "text/plain": [
       "[3.14, 11, 'cat', True, 99]"
      ]
     },
     "execution_count": 14,
     "metadata": {},
     "output_type": "execute_result"
    }
   ],
   "source": [
    "bacon"
   ]
  },
  {
   "cell_type": "markdown",
   "id": "66095d9e",
   "metadata": {},
   "source": [
    " What are the list concatenation and list replication operators?\n",
    "    \n",
    "The operator for list concatenation is +, while the operator for replication is *"
   ]
  },
  {
   "cell_type": "code",
   "execution_count": null,
   "id": "9ad0b2c6",
   "metadata": {},
   "outputs": [],
   "source": [
    "10. What is difference between the list methods append() and insert()?\n",
    "\n",
    "The only difference between append() and insert() is that \n",
    "insert function allows us to add a specific element at a specified index \n",
    "of the list unlike append() \n",
    "where we can add the element only at end of the list"
   ]
  },
  {
   "cell_type": "code",
   "execution_count": null,
   "id": "d8fc549b",
   "metadata": {},
   "outputs": [],
   "source": [
    "11. What are the two methods for removing items from a list?\n",
    "\n",
    "remove( ) and Pop()"
   ]
  },
  {
   "cell_type": "code",
   "execution_count": null,
   "id": "a9a1e872",
   "metadata": {},
   "outputs": [],
   "source": [
    "12. Describe how list values and string values are identical.\n",
    "\n",
    "The similarity between Lists and Strings in Python \n",
    "is that both are sequences. \n",
    "The differences between \n",
    "them are that firstly, Lists are mutable but Strings are\n",
    "immutable. Secondly, elements of a list can be \n",
    "of different types whereas a String only\n",
    "contains characters that are all of String type."
   ]
  },
  {
   "cell_type": "code",
   "execution_count": null,
   "id": "337face4",
   "metadata": {},
   "outputs": [],
   "source": [
    "13. What's the difference between tuples and lists?\n",
    "\n",
    "The key difference between the tuples and lists is that\n",
    "while the tuples are immutable objects the lists are mutable. \n",
    "This means that tuples cannot be changed \n",
    "while the lists can be modified. Tuples are more memory efficient than the lists."
   ]
  },
  {
   "cell_type": "code",
   "execution_count": 18,
   "id": "b77c63cf",
   "metadata": {},
   "outputs": [],
   "source": [
    "#14. How do you type a tuple value that only contains the integer 42?\n",
    "\n",
    "t=(42,)"
   ]
  },
  {
   "cell_type": "code",
   "execution_count": 24,
   "id": "e8daad41",
   "metadata": {},
   "outputs": [
    {
     "data": {
      "text/plain": [
       "[(1, 2, 3), ('a', 'b', 'c')]"
      ]
     },
     "execution_count": 24,
     "metadata": {},
     "output_type": "execute_result"
    }
   ],
   "source": [
    "#15. How do you get a list value's tuple form? \n",
    "#How do you get a tuple value's list form?\n",
    "\n",
    "l1=[(1,2,3),('a','b','c')] #list of tuples\n",
    "t1=([1,2,3],['a','b']) #tuple of list\n",
    "\n",
    "l1\n"
   ]
  },
  {
   "cell_type": "code",
   "execution_count": 25,
   "id": "5940b066",
   "metadata": {},
   "outputs": [
    {
     "data": {
      "text/plain": [
       "([1, 2, 3], ['a', 'b'])"
      ]
     },
     "execution_count": 25,
     "metadata": {},
     "output_type": "execute_result"
    }
   ],
   "source": [
    "t1"
   ]
  },
  {
   "cell_type": "code",
   "execution_count": 29,
   "id": "806caaae",
   "metadata": {},
   "outputs": [
    {
     "data": {
      "text/plain": [
       "int"
      ]
     },
     "execution_count": 29,
     "metadata": {},
     "output_type": "execute_result"
    }
   ],
   "source": [
    "#16. Variables that \"contain\" list values are not necessarily lists themselves. \n",
    "#Instead, what do they contain?\n",
    "\n",
    "l=[1,2,3]\n",
    "a=l[0]\n",
    "type(a)\n"
   ]
  },
  {
   "cell_type": "code",
   "execution_count": 30,
   "id": "9d658e83",
   "metadata": {},
   "outputs": [
    {
     "data": {
      "text/plain": [
       "1"
      ]
     },
     "execution_count": 30,
     "metadata": {},
     "output_type": "execute_result"
    }
   ],
   "source": [
    "a #it contains valuesof the list"
   ]
  },
  {
   "cell_type": "code",
   "execution_count": 47,
   "id": "d53a5efd",
   "metadata": {},
   "outputs": [
    {
     "name": "stdout",
     "output_type": "stream",
     "text": [
      "[1, 2, 3, 4]\n",
      "[1, 2, 3, 4]\n",
      "140238491900864 140238491900864\n",
      "[5, 2, 3, 4]\n",
      "[5, 2, 3, 4]\n"
     ]
    }
   ],
   "source": [
    "#17. How do you distinguish between copy.copy() and copy.deepcopy()?\n",
    "import copy\n",
    "\n",
    "\n",
    "\n",
    "#asignment operator does not create object it just creates reference to the memeory location\n",
    "\n",
    "l1=[1,2,3,4]\n",
    "new_l1=l1\n",
    "\n",
    "print(l1)\n",
    "print(new_l1)\n",
    "\n",
    "print(id(l1) , id(new_l1)) #same\n",
    "\n",
    "l1[0]=5   #changes both l1 and new_l1\n",
    "print(l1)\n",
    "print(new_l1)\n"
   ]
  },
  {
   "cell_type": "code",
   "execution_count": 56,
   "id": "7314c6a1",
   "metadata": {},
   "outputs": [
    {
     "name": "stdout",
     "output_type": "stream",
     "text": [
      "[[1, 2, 3], [4, 5, 6], [7, 8, 9]]\n",
      "[[1, 2, 3], [4, 5, 6], [7, 8, 9]]\n",
      "shallow copy as l2 is not changed\n",
      "[['a', 'b', 'c'], [4, 5, 6], [7, 8, 9]]\n",
      "[[1, 2, 3], [4, 5, 6], [7, 8, 9]]\n",
      "It is not the case with elements both l1 and l2 are changed\n",
      "[['a', 'b', 'c'], ['a', 5, 6], [7, 8, 9]]\n",
      "[[1, 2, 3], ['a', 5, 6], [7, 8, 9]]\n",
      "It is not the case with elements both l1 and l2 are changed\n",
      "[['a', 'b', 'c'], ['a', 5, 6], ['abc', 8, 9]]\n",
      "[[1, 2, 3], ['a', 5, 6], ['abc', 8, 9]]\n"
     ]
    }
   ],
   "source": [
    "#shallow copy using copy function\n",
    "\n",
    "#creating different reference so that old object is retained\n",
    "\n",
    "l1=[[1,2,3],[4,5,6],[7,8,9]]\n",
    "l2=copy.copy(l1)\n",
    "\n",
    "print(l1)\n",
    "print(l2)\n",
    "\n",
    "print(\"shallow copy as l2 is not changed\")\n",
    "\n",
    "l1[0]=['a','b','c']\n",
    "\n",
    "print(l1)\n",
    "print(l2)\n",
    "\n",
    "\n",
    "#not the case with elements\n",
    "\n",
    "print(\"It is not the case with elements both l1 and l2 are changed\")\n",
    "\n",
    "l1[1][0]='a'\n",
    "\n",
    "print(l1)\n",
    "print(l2)\n",
    "\n",
    "\n",
    "print(\"It is not the case with elements both l1 and l2 are changed\")\n",
    "\n",
    "l2[2][0]=\"abc\"\n",
    "\n",
    "\n",
    "print(l1)\n",
    "print(l2)"
   ]
  },
  {
   "cell_type": "code",
   "execution_count": 61,
   "id": "ad23895f",
   "metadata": {},
   "outputs": [
    {
     "name": "stdout",
     "output_type": "stream",
     "text": [
      "[[1, 2, 3], [4, 5, 6], [7, 8, 9]]\n",
      "[[1, 2, 3], [4, 5, 6], [7, 8, 9]]\n"
     ]
    }
   ],
   "source": [
    "#if we want the elements also to be retained as old we make use of deep copy\n",
    "\n",
    "\n",
    "l1=[[1,2,3],[4,5,6],[7,8,9]]\n",
    "\n",
    "l3=copy.deepcopy(l1)\n",
    "\n",
    "\n",
    "print(l1)\n",
    "print(l3)\n",
    "\n",
    "\n",
    "l1[0][1]='qwe'\n",
    "\n"
   ]
  },
  {
   "cell_type": "code",
   "execution_count": null,
   "id": "7e65a340",
   "metadata": {},
   "outputs": [],
   "source": []
  }
 ],
 "metadata": {
  "kernelspec": {
   "display_name": "Python 3 (ipykernel)",
   "language": "python",
   "name": "python3"
  },
  "language_info": {
   "codemirror_mode": {
    "name": "ipython",
    "version": 3
   },
   "file_extension": ".py",
   "mimetype": "text/x-python",
   "name": "python",
   "nbconvert_exporter": "python",
   "pygments_lexer": "ipython3",
   "version": "3.9.7"
  }
 },
 "nbformat": 4,
 "nbformat_minor": 5
}
