{
 "cells": [
  {
   "cell_type": "raw",
   "id": "7d4121f0",
   "metadata": {},
   "source": [
    "\n",
    "Assignment - 1"
   ]
  },
  {
   "cell_type": "code",
   "execution_count": null,
   "id": "ba08798e",
   "metadata": {},
   "outputs": [],
   "source": [
    "1. In the below elements which of them are values or an expression? eg:- \n",
    "    values can be integer or string and expressions will be mathematical operators.\n",
    "* \n",
    "'hello'\n",
    "-87.8\n",
    "- \n",
    "/ \n",
    "+\t\n",
    "6 \n",
    "\n",
    "\n",
    "VALUES - 'hello',6 ,-87.8\n",
    "Expressions - * ,- ,/,\n",
    "\n"
   ]
  },
  {
   "cell_type": "raw",
   "id": "28d6c883",
   "metadata": {},
   "source": [
    "2. What is the difference between string and variable?\n",
    "\n",
    "A variable is basically the name of the location in the primary memory of your computer. \n",
    "This can be chosen by you. A variable can store everything from strings to numbers.\n",
    "A string is the values inside the quotes assigned to a string.\n"
   ]
  },
  {
   "cell_type": "raw",
   "id": "58e6899f",
   "metadata": {},
   "source": [
    "Describe three different data types.\n",
    "\n",
    "Integer - Stores integer values\n",
    "String - Stores string values or character in quotes\n",
    "Boolean -Stores boolean value True or False"
   ]
  },
  {
   "cell_type": "raw",
   "id": "3817f533",
   "metadata": {},
   "source": [
    "\n",
    "4. What is an expression made up of? What do all expressions do?\n",
    "\n",
    "An expression is a combination of operators and operands that is interpreted to produce some other value."
   ]
  },
  {
   "cell_type": "raw",
   "id": "1df301f2",
   "metadata": {},
   "source": [
    "5. This assignment statements, like spam = 10. What is the difference between an expression and a statement?\n",
    "\n",
    "Expression is made up of values, containers, and mathematical operators (operands) and the statement is just like a command that a python interpreter executes like print"
   ]
  },
  {
   "cell_type": "code",
   "execution_count": 3,
   "id": "9d6631fa",
   "metadata": {},
   "outputs": [
    {
     "data": {
      "text/plain": [
       "22"
      ]
     },
     "execution_count": 3,
     "metadata": {},
     "output_type": "execute_result"
    }
   ],
   "source": [
    "#After running the following code, what does the variable bacon contain?\n",
    "bacon = 22\n",
    "bacon + 1\n",
    "bacon"
   ]
  },
  {
   "cell_type": "code",
   "execution_count": 5,
   "id": "51501be7",
   "metadata": {},
   "outputs": [
    {
     "data": {
      "text/plain": [
       "'spamspamspam'"
      ]
     },
     "execution_count": 5,
     "metadata": {},
     "output_type": "execute_result"
    }
   ],
   "source": [
    "#7. What should the values of the following two terms be?\n",
    "\n",
    "'spam' + 'spamspam'\n",
    "'spam' * 3\n",
    "\n",
    "#it will be same"
   ]
  },
  {
   "cell_type": "raw",
   "id": "280fff16",
   "metadata": {},
   "source": [
    "Why is eggs a valid variable name while 100 is invalid?\n",
    "\n",
    "In programing language  we can't start giving variable an integer name. \n",
    "it should a string-like alphabet name then integer. \n"
   ]
  },
  {
   "cell_type": "raw",
   "id": "ac70678e",
   "metadata": {},
   "source": [
    "What three \n",
    "functions can be used to get the integer, \n",
    "floating-point number, or string version of a value?\n",
    "\n",
    "ans: str(), int(), float()"
   ]
  },
  {
   "cell_type": "code",
   "execution_count": 8,
   "id": "8a6ab823",
   "metadata": {},
   "outputs": [
    {
     "data": {
      "text/plain": [
       "'I have eaten 99 burritos.'"
      ]
     },
     "execution_count": 8,
     "metadata": {},
     "output_type": "execute_result"
    }
   ],
   "source": [
    "#10. Why does this expression cause an error? How can you fix it?\n",
    "#'I have eaten ' + 99 + ' burritos.'\n",
    "#can be written as\n",
    "'I have eaten ' + '99' + ' burritos.'\n",
    "\n",
    "\n",
    "#99 is an integer so we cannot concatenate"
   ]
  },
  {
   "cell_type": "code",
   "execution_count": null,
   "id": "4cbee61e",
   "metadata": {},
   "outputs": [],
   "source": []
  }
 ],
 "metadata": {
  "kernelspec": {
   "display_name": "Python 3 (ipykernel)",
   "language": "python",
   "name": "python3"
  },
  "language_info": {
   "codemirror_mode": {
    "name": "ipython",
    "version": 3
   },
   "file_extension": ".py",
   "mimetype": "text/x-python",
   "name": "python",
   "nbconvert_exporter": "python",
   "pygments_lexer": "ipython3",
   "version": "3.9.7"
  }
 },
 "nbformat": 4,
 "nbformat_minor": 5
}
